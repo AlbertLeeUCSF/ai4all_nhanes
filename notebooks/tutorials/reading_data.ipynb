{
 "cells": [
  {
   "cell_type": "markdown",
   "metadata": {},
   "source": [
    "# Reading Data (all about Pandas)\n",
    "\n",
    "The NHANES data that you will use are stored in the *data/raw* directory. In this tutorial, we will go through:\n",
    "- Reading a single data file using Pandas\n",
    "- Getting a quick summary of a dataframe using Pandas"
   ]
  },
  {
   "cell_type": "markdown",
   "metadata": {},
   "source": [
    "## Reading a single data file using Pandas\n",
    "We will use Pandas to manipulate data. "
   ]
  },
  {
   "cell_type": "code",
   "execution_count": null,
   "metadata": {},
   "outputs": [],
   "source": [
    "import pandas as pd"
   ]
  },
  {
   "cell_type": "code",
   "execution_count": null,
   "metadata": {},
   "outputs": [],
   "source": [
    "acculturation_2011_df = pd.read_csv('../data/raw/2011-2012_acculturation.csv')"
   ]
  },
  {
   "cell_type": "markdown",
   "metadata": {},
   "source": [
    "## Getting a quick summary of a dataframe using Pandas\n",
    "Three useful Pandas **methods** to run after you read a file into a dataframe areL\n",
    "- `.head()`\n",
    "- `.info()`\n",
    "- `.columns`\n",
    "\n",
    "Take a look at the examples and try to describe what each do."
   ]
  },
  {
   "cell_type": "code",
   "execution_count": null,
   "metadata": {},
   "outputs": [],
   "source": [
    "acculturation_2011_df.head()"
   ]
  },
  {
   "cell_type": "code",
   "execution_count": null,
   "metadata": {},
   "outputs": [],
   "source": [
    "acculturation_2011_df.info()"
   ]
  },
  {
   "cell_type": "code",
   "execution_count": null,
   "metadata": {},
   "outputs": [],
   "source": [
    "acculturation_2011_df.columns"
   ]
  },
  {
   "cell_type": "markdown",
   "metadata": {},
   "source": [
    "#### YOUR RESPONSE HERE\n",
    "- `.head()`: YOUR DESCRIPTION HERE\n",
    "- `.info()`: YOUR DESCRIPTION HERE\n",
    "- `.columns`: YOUR DESCRIPTION HERE"
   ]
  },
  {
   "cell_type": "code",
   "execution_count": null,
   "metadata": {},
   "outputs": [],
   "source": []
  }
 ],
 "metadata": {
  "kernelspec": {
   "display_name": "Python 3",
   "language": "python",
   "name": "python3"
  },
  "language_info": {
   "codemirror_mode": {
    "name": "ipython",
    "version": 3
   },
   "file_extension": ".py",
   "mimetype": "text/x-python",
   "name": "python",
   "nbconvert_exporter": "python",
   "pygments_lexer": "ipython3",
   "version": "3.8.5"
  }
 },
 "nbformat": 4,
 "nbformat_minor": 4
}

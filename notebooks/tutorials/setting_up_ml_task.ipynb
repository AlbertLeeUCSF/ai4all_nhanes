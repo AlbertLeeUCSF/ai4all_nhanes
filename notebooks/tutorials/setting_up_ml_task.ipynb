{
 "cells": [
  {
   "cell_type": "code",
   "execution_count": 27,
   "id": "2da13fb7-d276-416a-87e8-413c680ad9a4",
   "metadata": {},
   "outputs": [],
   "source": [
    "import pandas as pd\n",
    "import numpy as np\n",
    "\n",
    "from  sklearn.model_selection import train_test_split\n",
    "from sklearn.pipeline import Pipeline\n",
    "from sklearn.impute import SimpleImputer\n",
    "from sklearn.metrics import roc_auc_score\n",
    "\n",
    "from sklearn.svm import SVC\n",
    "from sklearn.linear_model import LogisticRegression\n",
    "from sklearn.preprocessing import StandardScaler"
   ]
  },
  {
   "cell_type": "code",
   "execution_count": 2,
   "id": "71535826-beca-4dc3-8f39-020831d417a1",
   "metadata": {},
   "outputs": [
    {
     "name": "stderr",
     "output_type": "stream",
     "text": [
      "/Volumes/Active/GitHub/ai4all_nhanes/env/lib/python3.8/site-packages/IPython/core/interactiveshell.py:3441: DtypeWarning: Columns (600,601) have mixed types.Specify dtype option on import or set low_memory=False.\n",
      "  exec(code_obj, self.user_global_ns, self.user_ns)\n"
     ]
    }
   ],
   "source": [
    "all_data_df = pd.read_csv(\"https://raw.githubusercontent.com/albemlee/ai4all_nhanes/main/notebooks/all_data_df.csv\")"
   ]
  },
  {
   "cell_type": "code",
   "execution_count": 3,
   "id": "311beb96-165d-46cb-9b83-97022e32c014",
   "metadata": {},
   "outputs": [
    {
     "name": "stdout",
     "output_type": "stream",
     "text": [
      "<class 'pandas.core.frame.DataFrame'>\n",
      "RangeIndex: 29902 entries, 0 to 29901\n",
      "Columns: 674 entries, SEQN to WHQ150\n",
      "dtypes: float64(672), object(2)\n",
      "memory usage: 153.8+ MB\n"
     ]
    }
   ],
   "source": [
    "all_data_df.info()"
   ]
  },
  {
   "cell_type": "code",
   "execution_count": 4,
   "id": "234c0432-27ae-45e1-bca1-8fd3ccc7ab09",
   "metadata": {},
   "outputs": [],
   "source": [
    "features = [\n",
    "    #diabetes\n",
    "    'DID040','DIQ160','DIQ170','DIQ172','DIQ175A','DIQ175B','DIQ175C',\n",
    "    'DIQ175D','DIQ175E','DIQ175F','DIQ175G','DIQ175H','DIQ175I','DIQ175J','DIQ175K',\n",
    "    'DIQ175L', 'DIQ175M','DIQ175N','DIQ175O','DIQ175P','DIQ175Q','DIQ175R','DIQ175S',\n",
    "    'DIQ175T','DIQ175U','DIQ175V','DIQ175W','DIQ180','DIQ050','DID060','DIQ060U',\n",
    "    'DIQ070','DIQ230','DIQ240','DID250','DID260','DIQ260U','DIQ275','DIQ280','DIQ291',\n",
    "    'DIQ300S','DIQ300D','DID310S','DID310D','DID320','DID330','DID341','DID350',\n",
    "    'DIQ350U','DIQ360','DIQ080', \n",
    "    #sleep disorder\n",
    "    'SEQN','SLQ050', \n",
    "    #physical activity\n",
    "    'PAQ605','PAQ610','PAD615','PAQ620','PAQ625','PAD630','PAQ635','PAQ640','PAD645',\n",
    "    'PAQ650','PAQ655','PAD660','PAQ665','PAQ670','PAD675','PAD680','PAQ706','PAQ710',\n",
    "    'PAQ715', \n",
    "    #weight history\n",
    "    'WHD010','WHD020','WHQ030','WHQ040','WHD050','WHQ060','WHQ070','WHD080A','WHD080B',\n",
    "    'WHD080C','WHD080D','WHD080E','WHD080F','WHD080G','WHD080H','WHD080I','WHD080J',\n",
    "    'WHD080K','WHD080M','WHD080N','WHD080O','WHD080P','WHD080Q','WHD080R','WHD080S',\n",
    "    'WHD080T','WHD080L','WHD110','WHD120','WHD130','WHD140','WHQ150', \n",
    "    #early childhood\n",
    "    'ECD010','ECQ020','ECD070A','ECD070B','ECQ080','ECQ090','WHQ030E','MCQ080E',\n",
    "    'ECQ150', \n",
    "    #alcohol issues\n",
    "    'ALQ101','ALQ110','ALQ120Q','ALQ120U','ALQ130','ALQ141Q','ALQ141U','ALQ151',\n",
    "    #early childhood\n",
    "    'ECD010','ECQ020','ECD070A','ECD070B','ECQ080','ECQ090','WHQ030E','MCQ080E','ECQ150', \n",
    "    #hospital access\n",
    "    'HUQ010','HUQ020','HUQ030','HUQ071','HUD080','HUQ090', \n",
    "    #health status\n",
    "    'HSD010','HSQ500','HSQ510','HSQ520','HSQ571','HSQ580','HSQ590','HSAQUEX',  \n",
    "    #income\n",
    "    'INQ012','INQ030','INQ060','INQ080','INQ090','INQ132','INQ140','INQ150',\n",
    "    'IND235','INDFMMPI','INDFMMPC', \n",
    "    #housing\n",
    "    'SEQN','HOD050','HOQ065', \n",
    "    #occupation\n",
    "    'OCD150','OCQ180','OCQ210','OCQ260','OCD270','OCQ380','OCD390G','OCD395', \n",
    "    #mental health\n",
    "    'DPQ010','DPQ020','DPQ030','DPQ040','DPQ050','DPQ060','DPQ070','DPQ080','DPQ090','DPQ100', \n",
    "    #demographic\n",
    "    'SDDSRVYR','RIDSTATR','RIAGENDR','RIDAGEYR','RIDAGEMN','RIDRETH1','RIDRETH3',\n",
    "    'RIDEXMON','RIDEXAGM','DMQMILIZ','DMQADFC','DMDBORN4','DMDCITZN','DMDYRSUS',\n",
    "    'DMDEDUC3','DMDEDUC2','DMDMARTL','RIDEXPRG','SIALANG','SIAPROXY','SIAINTRP',\n",
    "    'FIALANG','FIAPROXY','FIAINTRP','MIALANG','MIAPROXY','MIAINTRP','AIALANGA',\n",
    "    'DMDHHSIZ','DMDFMSIZ','DMDHHSZA','DMDHHSZB','DMDHHSZE','DMDHRGND','DMDHRAGE',\n",
    "    'DMDHRBR4','DMDHREDU','DMDHRMAR','DMDHSEDU','WTINT2YR','WTMEC2YR','SDMVPSU',\n",
    "    'SDMVSTRA','INDHHIN2','INDFMIN2','INDFMPIR', \n",
    "    #diet nutrition\n",
    "    'DBQ010','DBD030','DBD041','DBD050','DBD055','DBD061','DBQ073A','DBQ073B','DBQ073C',\n",
    "    'DBQ073D','DBQ073E','DBQ073U','DBQ700','DBQ197','DBQ223A','DBQ223B','DBQ223C',\n",
    "    'DBQ223D','DBQ223E','DBQ223U','DBQ229','DBQ235A','DBQ235B','DBQ235C','DBQ301',\n",
    "    'DBQ330','DBQ360','DBQ370','DBD381','DBQ390','DBQ400','DBD411','DBQ421','DBQ424',\n",
    "    'DBD895','DBD900','DBD905','DBD910', \n",
    "    #drug use\n",
    "    'DUQ200','DUQ210','DUQ211','DUQ213','DUQ215Q','DUQ215U','DUQ217','DUQ219','DUQ220Q',\n",
    "    'DUQ220U','DUQ230','DUQ240','DUQ250','DUQ260','DUQ270Q','DUQ270U','DUQ272','DUQ280',\n",
    "    'DUQ290','DUQ300','DUQ310Q','DUQ310U','DUQ320','DUQ330','DUQ340','DUQ350Q','DUQ350U',\n",
    "    'DUQ352','DUQ360','DUQ370','DUQ380A','DUQ380B','DUQ380C','DUQ380D','DUQ380E',\n",
    "    'DUQ390','DUQ400Q','DUQ400U','DUQ410','DUQ420', \n",
    "    \n",
    "]\n",
    "\n",
    "label = 'DIQ010'"
   ]
  },
  {
   "cell_type": "code",
   "execution_count": 5,
   "id": "a3faccaf-b3b7-4a44-b529-d8ddc9b88fd8",
   "metadata": {},
   "outputs": [],
   "source": [
    "final_features = []\n",
    "\n",
    "for feature in features:\n",
    "    if feature not in final_features and feature != 'SEQN':\n",
    "        final_features.append(feature)"
   ]
  },
  {
   "cell_type": "code",
   "execution_count": 6,
   "id": "bcde01e1-3d67-46e8-8f88-5b7715ea6fb9",
   "metadata": {},
   "outputs": [
    {
     "data": {
      "text/html": [
       "<div>\n",
       "<style scoped>\n",
       "    .dataframe tbody tr th:only-of-type {\n",
       "        vertical-align: middle;\n",
       "    }\n",
       "\n",
       "    .dataframe tbody tr th {\n",
       "        vertical-align: top;\n",
       "    }\n",
       "\n",
       "    .dataframe thead th {\n",
       "        text-align: right;\n",
       "    }\n",
       "</style>\n",
       "<table border=\"1\" class=\"dataframe\">\n",
       "  <thead>\n",
       "    <tr style=\"text-align: right;\">\n",
       "      <th></th>\n",
       "      <th>DIQ010</th>\n",
       "      <th>label</th>\n",
       "    </tr>\n",
       "  </thead>\n",
       "  <tbody>\n",
       "    <tr>\n",
       "      <th>19811</th>\n",
       "      <td>2.0</td>\n",
       "      <td>False</td>\n",
       "    </tr>\n",
       "    <tr>\n",
       "      <th>1173</th>\n",
       "      <td>2.0</td>\n",
       "      <td>False</td>\n",
       "    </tr>\n",
       "    <tr>\n",
       "      <th>25452</th>\n",
       "      <td>2.0</td>\n",
       "      <td>False</td>\n",
       "    </tr>\n",
       "    <tr>\n",
       "      <th>9741</th>\n",
       "      <td>2.0</td>\n",
       "      <td>False</td>\n",
       "    </tr>\n",
       "    <tr>\n",
       "      <th>19777</th>\n",
       "      <td>NaN</td>\n",
       "      <td>False</td>\n",
       "    </tr>\n",
       "    <tr>\n",
       "      <th>12905</th>\n",
       "      <td>2.0</td>\n",
       "      <td>False</td>\n",
       "    </tr>\n",
       "    <tr>\n",
       "      <th>15978</th>\n",
       "      <td>2.0</td>\n",
       "      <td>False</td>\n",
       "    </tr>\n",
       "    <tr>\n",
       "      <th>29144</th>\n",
       "      <td>NaN</td>\n",
       "      <td>False</td>\n",
       "    </tr>\n",
       "    <tr>\n",
       "      <th>18289</th>\n",
       "      <td>2.0</td>\n",
       "      <td>False</td>\n",
       "    </tr>\n",
       "    <tr>\n",
       "      <th>8693</th>\n",
       "      <td>2.0</td>\n",
       "      <td>False</td>\n",
       "    </tr>\n",
       "  </tbody>\n",
       "</table>\n",
       "</div>"
      ],
      "text/plain": [
       "       DIQ010  label\n",
       "19811     2.0  False\n",
       "1173      2.0  False\n",
       "25452     2.0  False\n",
       "9741      2.0  False\n",
       "19777     NaN  False\n",
       "12905     2.0  False\n",
       "15978     2.0  False\n",
       "29144     NaN  False\n",
       "18289     2.0  False\n",
       "8693      2.0  False"
      ]
     },
     "execution_count": 6,
     "metadata": {},
     "output_type": "execute_result"
    }
   ],
   "source": [
    "all_data_df['label'] = all_data_df[label].apply(lambda x: x == 1)\n",
    "all_data_df[[label, 'label']].sample(10)"
   ]
  },
  {
   "cell_type": "code",
   "execution_count": 7,
   "id": "558a6efb-1125-4c77-b15c-1bc8cef7debf",
   "metadata": {},
   "outputs": [],
   "source": [
    "X = all_data_df[final_features]\n",
    "y = all_data_df['label']"
   ]
  },
  {
   "cell_type": "code",
   "execution_count": 8,
   "id": "392ebbf8-cefd-4cec-874f-3e8db9ebbe20",
   "metadata": {},
   "outputs": [],
   "source": [
    "X_train, X_test, y_train, y_test = train_test_split(X, y, test_size=0.2, random_state=42)\n",
    "X_val, X_test, y_val, y_test = train_test_split(X_test, y_test, test_size=0.5, random_state=42)"
   ]
  },
  {
   "cell_type": "code",
   "execution_count": 9,
   "id": "20a57d52-8501-46a8-87a2-5bdc3a1e844a",
   "metadata": {},
   "outputs": [
    {
     "data": {
      "text/plain": [
       "(23921, 289)"
      ]
     },
     "execution_count": 9,
     "metadata": {},
     "output_type": "execute_result"
    }
   ],
   "source": [
    "X_train.shape"
   ]
  },
  {
   "cell_type": "code",
   "execution_count": 10,
   "id": "4c36ffc1-6433-45cb-b6b5-d12a5d4426e4",
   "metadata": {},
   "outputs": [
    {
     "data": {
      "text/plain": [
       "(2991, 289)"
      ]
     },
     "execution_count": 10,
     "metadata": {},
     "output_type": "execute_result"
    }
   ],
   "source": [
    "X_test.shape"
   ]
  },
  {
   "cell_type": "code",
   "execution_count": 11,
   "id": "7de22335-5adf-4e3f-b143-fba0ec0133cd",
   "metadata": {},
   "outputs": [
    {
     "data": {
      "text/plain": [
       "(2990, 289)"
      ]
     },
     "execution_count": 11,
     "metadata": {},
     "output_type": "execute_result"
    }
   ],
   "source": [
    "X_val.shape"
   ]
  },
  {
   "cell_type": "code",
   "execution_count": 19,
   "id": "e83b29d3-f159-4499-8eaa-aabd3442cfc3",
   "metadata": {},
   "outputs": [],
   "source": [
    "example_pipe = Pipeline([\n",
    "    ('imp', SimpleImputer(missing_values=np.nan, strategy='mean')), \n",
    "    ('scaler', StandardScaler()), \n",
    "    ('svc', SVC())\n",
    "])"
   ]
  },
  {
   "cell_type": "code",
   "execution_count": 20,
   "id": "65f3d5fa-d8a2-42a8-931e-14a5e619402c",
   "metadata": {},
   "outputs": [
    {
     "data": {
      "text/plain": [
       "Pipeline(steps=[('imp', SimpleImputer()), ('scaler', StandardScaler()),\n",
       "                ('svc', SVC())])"
      ]
     },
     "execution_count": 20,
     "metadata": {},
     "output_type": "execute_result"
    }
   ],
   "source": [
    "example_pipe.fit(X_train, y_train)"
   ]
  },
  {
   "cell_type": "code",
   "execution_count": 21,
   "id": "95312d5c-6214-4929-88d5-73fcbae63b55",
   "metadata": {},
   "outputs": [],
   "source": [
    "predictions_train = example_pipe.predict(X_train)\n",
    "predictions_val = example_pipe.predict(X_val)"
   ]
  },
  {
   "cell_type": "code",
   "execution_count": 24,
   "id": "69a740e4-c373-45f1-90c1-b256b6b8cc49",
   "metadata": {},
   "outputs": [
    {
     "data": {
      "text/plain": [
       "0.9997245179063361"
      ]
     },
     "execution_count": 24,
     "metadata": {},
     "output_type": "execute_result"
    }
   ],
   "source": [
    "roc_auc_score(y_train, predictions_train)"
   ]
  },
  {
   "cell_type": "code",
   "execution_count": 25,
   "id": "5fdb5d8b-3551-49f0-9c34-125b1f5271c9",
   "metadata": {},
   "outputs": [
    {
     "data": {
      "text/plain": [
       "0.9350393700787402"
      ]
     },
     "execution_count": 25,
     "metadata": {},
     "output_type": "execute_result"
    }
   ],
   "source": [
    "roc_auc_score(y_val, predictions_val)"
   ]
  },
  {
   "cell_type": "code",
   "execution_count": null,
   "id": "c3c26713-b21e-4f2b-bcec-4a6c9dd5fd1f",
   "metadata": {},
   "outputs": [],
   "source": []
  },
  {
   "cell_type": "code",
   "execution_count": 30,
   "id": "3652184b-3880-4f29-bed1-d134fe01b98b",
   "metadata": {},
   "outputs": [],
   "source": [
    "logreg_pipe = Pipeline([\n",
    "    ('imp', SimpleImputer(missing_values=np.nan, strategy='mean')), \n",
    "    ('scaler', StandardScaler()), \n",
    "    ('logreg', LogisticRegression())\n",
    "])"
   ]
  },
  {
   "cell_type": "code",
   "execution_count": 31,
   "id": "0c09492d-1b41-4431-b044-a62d0d5561b2",
   "metadata": {},
   "outputs": [
    {
     "name": "stderr",
     "output_type": "stream",
     "text": [
      "/Volumes/Active/GitHub/ai4all_nhanes/env/lib/python3.8/site-packages/sklearn/linear_model/_logistic.py:763: ConvergenceWarning: lbfgs failed to converge (status=1):\n",
      "STOP: TOTAL NO. of ITERATIONS REACHED LIMIT.\n",
      "\n",
      "Increase the number of iterations (max_iter) or scale the data as shown in:\n",
      "    https://scikit-learn.org/stable/modules/preprocessing.html\n",
      "Please also refer to the documentation for alternative solver options:\n",
      "    https://scikit-learn.org/stable/modules/linear_model.html#logistic-regression\n",
      "  n_iter_i = _check_optimize_result(\n"
     ]
    },
    {
     "data": {
      "text/plain": [
       "Pipeline(steps=[('imp', SimpleImputer()), ('scaler', StandardScaler()),\n",
       "                ('logreg', LogisticRegression())])"
      ]
     },
     "execution_count": 31,
     "metadata": {},
     "output_type": "execute_result"
    }
   ],
   "source": [
    "logreg_pipe.fit(X_train, y_train)"
   ]
  },
  {
   "cell_type": "code",
   "execution_count": 32,
   "id": "d7a2bd6d-e153-4b50-bc0c-e372588812de",
   "metadata": {},
   "outputs": [],
   "source": [
    "predictions_train = logreg_pipe.predict(X_train)\n",
    "predictions_val = logreg_pipe.predict(X_val)"
   ]
  },
  {
   "cell_type": "code",
   "execution_count": 33,
   "id": "a733555f-b0bc-4438-8b2e-81e331fd478e",
   "metadata": {},
   "outputs": [
    {
     "data": {
      "text/plain": [
       "0.8300826670594648"
      ]
     },
     "execution_count": 33,
     "metadata": {},
     "output_type": "execute_result"
    }
   ],
   "source": [
    "roc_auc_score(y_train, predictions_train)"
   ]
  },
  {
   "cell_type": "code",
   "execution_count": 34,
   "id": "0d2385d7-03ff-455a-831a-1132a25ddb0b",
   "metadata": {},
   "outputs": [
    {
     "data": {
      "text/plain": [
       "0.811853904775061"
      ]
     },
     "execution_count": 34,
     "metadata": {},
     "output_type": "execute_result"
    }
   ],
   "source": [
    "roc_auc_score(y_val, predictions_val)"
   ]
  },
  {
   "cell_type": "code",
   "execution_count": null,
   "id": "7af9967f-fbef-411b-af4e-a7cd6a84890b",
   "metadata": {},
   "outputs": [],
   "source": []
  }
 ],
 "metadata": {
  "kernelspec": {
   "display_name": "Python 3 (ipykernel)",
   "language": "python",
   "name": "python3"
  },
  "language_info": {
   "codemirror_mode": {
    "name": "ipython",
    "version": 3
   },
   "file_extension": ".py",
   "mimetype": "text/x-python",
   "name": "python",
   "nbconvert_exporter": "python",
   "pygments_lexer": "ipython3",
   "version": "3.8.5"
  }
 },
 "nbformat": 4,
 "nbformat_minor": 5
}

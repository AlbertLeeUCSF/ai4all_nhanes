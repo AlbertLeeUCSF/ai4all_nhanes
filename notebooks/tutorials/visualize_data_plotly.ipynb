{
 "cells": [
  {
   "cell_type": "code",
   "execution_count": null,
   "id": "6cda3cea-a8dd-43b3-ab0b-d0392c4c9732",
   "metadata": {},
   "outputs": [],
   "source": [
    "import plotly.express as px\n",
    "import pandas as pd\n",
    "import numpy as np"
   ]
  },
  {
   "cell_type": "markdown",
   "id": "11384a5c-02ca-40d7-a57f-0374dc7bb31d",
   "metadata": {},
   "source": [
    "We'll be using the [Plotly library](https://plotly.com/python/) to create visualizations."
   ]
  },
  {
   "cell_type": "markdown",
   "id": "fe8fd78e-f629-4456-adbb-6262041b85aa",
   "metadata": {},
   "source": [
    "# Use bar charts for categorical data"
   ]
  },
  {
   "cell_type": "code",
   "execution_count": null,
   "id": "0b7b203c-5e84-45a8-96d0-6a0d704f07c2",
   "metadata": {},
   "outputs": [],
   "source": [
    "# Read data into pandas dataframe\n",
    "income_df = pd.read_csv('../../data/raw/2011-2012_income.csv')\n",
    "income_df.info()"
   ]
  },
  {
   "cell_type": "markdown",
   "id": "65d5ea29-0265-4d7e-9aac-49621bdb49ed",
   "metadata": {},
   "source": [
    "Find documentation on the data at https://wwwn.cdc.gov/nchs/nhanes/search/datapage.aspx?Component=Questionnaire.\n",
    "The documentation for 2011-2012 Income is [here](https://wwwn.cdc.gov/Nchs/Nhanes/2011-2012/INQ_G.htm).\n",
    "Let's keep track of what the variables represent."
   ]
  },
  {
   "cell_type": "code",
   "execution_count": null,
   "id": "99dbabf1-5ed4-413c-ab49-f22ae5b9c4a7",
   "metadata": {},
   "outputs": [],
   "source": [
    "income_df_columns = {\n",
    "    'SEQN': 'Respondent sequence number',\n",
    "    'INQ020': 'Income from wages/salaries',\n",
    "    'INQ012': 'Income from self employment',\n",
    "    'INQ030': 'Income from Social Security or RR',\n",
    "    'INQ060': 'Income from other disability pension',\n",
    "    'INQ080': 'Income from retirement/survivor pension',\n",
    "    'INQ090': 'Income from Supplemental Security Income',\n",
    "    'INQ132': 'Income from state/county cash assistance',\n",
    "    'INQ140': 'Income from interest/dividends or rental',\n",
    "    'INQ150': 'Income from other sources',\n",
    "    'IND235': 'Monthly family income',\n",
    "    'INDFMMPI': 'Family monthly poverty level index',\n",
    "    'INDFMMPC': 'Family monthly poverty level category',\n",
    "    'INQBOX1': 'CHECK ITEM',\n",
    "    'INQ244': 'Family has savings more than $5000',\n",
    "    'IND247': 'Total savings/cash assets for the family'\n",
    "}"
   ]
  },
  {
   "cell_type": "markdown",
   "id": "d9da715e-544e-48fa-ad0a-2049de4cd3f5",
   "metadata": {},
   "source": [
    "Let's take a look at the unique values from income from wages/salaries (INQ020)."
   ]
  },
  {
   "cell_type": "code",
   "execution_count": null,
   "id": "fa51aaf9-61d6-496a-b09f-3b47238d2720",
   "metadata": {},
   "outputs": [],
   "source": [
    "income_df['INQ020'].unique()"
   ]
  },
  {
   "cell_type": "markdown",
   "id": "2416f224-096e-4be6-a81c-3312ac85841c",
   "metadata": {},
   "source": [
    "We will also need to rely on the documentation to tell use what these value mean."
   ]
  },
  {
   "cell_type": "code",
   "execution_count": null,
   "id": "23b07dcf-fc3a-4c95-b1a6-39fe3f5341b4",
   "metadata": {},
   "outputs": [],
   "source": [
    "value_defs = {\n",
    "    '1': 'Yes',\n",
    "    '2': 'No',\n",
    "    '7': 'Refused',\n",
    "    '9': 'Don\\'t know',\n",
    "    '.': 'Missing'\n",
    "}"
   ]
  },
  {
   "cell_type": "markdown",
   "id": "4fa5040d-ff65-47f9-b754-9b0da4b4f213",
   "metadata": {},
   "source": [
    "Now that we know the definitions of these values, we can create a bar plot with the counts!"
   ]
  },
  {
   "cell_type": "code",
   "execution_count": null,
   "id": "8274e450-f8a2-447f-ab9d-7bd83783dc6b",
   "metadata": {},
   "outputs": [],
   "source": [
    "# Convert raw values into meaningful values\n",
    "INC020_values = income_df['INQ020'].apply(lambda x: 'Missing' if np.isnan(x) else value_defs[str(int(x))])\n",
    "INC020_values"
   ]
  },
  {
   "cell_type": "code",
   "execution_count": null,
   "id": "1a114f13-edab-4f9e-9507-8f26d9c921cc",
   "metadata": {},
   "outputs": [],
   "source": [
    "# Calculate value counts\n",
    "INC020_value_count = INC020_values.value_counts().reset_index()\n",
    "INC020_value_count"
   ]
  },
  {
   "cell_type": "markdown",
   "id": "5dff685a-34a7-4302-a868-86f0b02a2955",
   "metadata": {},
   "source": [
    "Do the results above match the [documentation](https://wwwn.cdc.gov/Nchs/Nhanes/2011-2012/INQ_G.htm#INQ020)?"
   ]
  },
  {
   "cell_type": "code",
   "execution_count": null,
   "id": "2ed89c02-2e51-4505-a53e-7f2d72253243",
   "metadata": {},
   "outputs": [],
   "source": [
    "# Create and show plotly bar chart\n",
    "fig = px.bar(INC020_value_count, x='index', y='INQ020')\n",
    "fig.show()"
   ]
  },
  {
   "cell_type": "code",
   "execution_count": null,
   "id": "948a384a-8779-4918-ae23-773b7711fc93",
   "metadata": {},
   "outputs": [],
   "source": []
  }
 ],
 "metadata": {
  "kernelspec": {
   "display_name": "Python 3 (ipykernel)",
   "language": "python",
   "name": "python3"
  },
  "language_info": {
   "codemirror_mode": {
    "name": "ipython",
    "version": 3
   },
   "file_extension": ".py",
   "mimetype": "text/x-python",
   "name": "python",
   "nbconvert_exporter": "python",
   "pygments_lexer": "ipython3",
   "version": "3.8.5"
  }
 },
 "nbformat": 4,
 "nbformat_minor": 5
}

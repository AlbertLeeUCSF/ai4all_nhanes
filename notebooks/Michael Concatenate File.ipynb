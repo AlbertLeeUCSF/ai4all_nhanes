{
 "cells": [
  {
   "cell_type": "markdown",
   "id": "81fd85d8",
   "metadata": {},
   "source": []
  },
  {
   "cell_type": "code",
   "execution_count": 2,
   "id": "6d395106",
   "metadata": {},
   "outputs": [],
   "source": [
    "import pandas as pd\n",
    "import numpy as np\n",
    "import plotly.express as px"
   ]
  },
  {
   "cell_type": "code",
   "execution_count": null,
   "id": "fcaaf4bf",
   "metadata": {},
   "outputs": [],
   "source": []
  },
  {
   "cell_type": "code",
   "execution_count": null,
   "id": "19e4c894",
   "metadata": {},
   "outputs": [],
   "source": []
  },
  {
   "cell_type": "code",
   "execution_count": 5,
   "id": "3ebed214",
   "metadata": {},
   "outputs": [],
   "source": [
    "all_2011_df = pd.read_csv('all_2011_df.csv') \n",
    "all_2013_df = pd.read_csv('all_2013_df.csv') \n",
    "all_2015_df = pd.read_csv('all_2015_df.csv')"
   ]
  },
  {
   "cell_type": "code",
   "execution_count": null,
   "id": "23661dc9",
   "metadata": {},
   "outputs": [],
   "source": [
    "\n",
    "#all_2011_df.csv\n",
    "#all_2013_df.csv\n",
    "#all_2015_df.csv\n",
    "#output: all_data_df.csv"
   ]
  },
  {
   "cell_type": "code",
   "execution_count": null,
   "id": "281994d6",
   "metadata": {},
   "outputs": [],
   "source": [
    "all_data_df = pd.concat([all_2011_df, all_2013_df, all_2015_df], axis=0)"
   ]
  },
  {
   "cell_type": "code",
   "execution_count": 4,
   "id": "ce9d6e14",
   "metadata": {},
   "outputs": [
    {
     "ename": "NameError",
     "evalue": "name 'all_data_df' is not defined",
     "output_type": "error",
     "traceback": [
      "\u001b[1;31m---------------------------------------------------------------------------\u001b[0m",
      "\u001b[1;31mNameError\u001b[0m                                 Traceback (most recent call last)",
      "\u001b[1;32mC:\\Users\\MICHAE~1\\AppData\\Local\\Temp/ipykernel_6612/3538721429.py\u001b[0m in \u001b[0;36m<module>\u001b[1;34m\u001b[0m\n\u001b[1;32m----> 1\u001b[1;33m \u001b[0mall_data_df\u001b[0m\u001b[1;33m.\u001b[0m\u001b[0mto_csv\u001b[0m\u001b[1;33m(\u001b[0m\u001b[1;34m'all_data_df.csv'\u001b[0m\u001b[1;33m,\u001b[0m \u001b[0mindex\u001b[0m\u001b[1;33m=\u001b[0m\u001b[1;32mFalse\u001b[0m\u001b[1;33m)\u001b[0m\u001b[1;33m\u001b[0m\u001b[1;33m\u001b[0m\u001b[0m\n\u001b[0m",
      "\u001b[1;31mNameError\u001b[0m: name 'all_data_df' is not defined"
     ]
    }
   ],
   "source": [
    "all_data_df.to_csv('all_data_df.csv', index=False)\n"
   ]
  },
  {
   "cell_type": "code",
   "execution_count": null,
   "id": "ef8dc2e3-c450-4f13-bbe6-aa7c14e34b06",
   "metadata": {},
   "outputs": [],
   "source": []
  }
 ],
 "metadata": {
  "kernelspec": {
   "display_name": "Python 3 (ipykernel)",
   "language": "python",
   "name": "python3"
  },
  "language_info": {
   "codemirror_mode": {
    "name": "ipython",
    "version": 3
   },
   "file_extension": ".py",
   "mimetype": "text/x-python",
   "name": "python",
   "nbconvert_exporter": "python",
   "pygments_lexer": "ipython3",
   "version": "3.9.1"
  }
 },
 "nbformat": 4,
 "nbformat_minor": 5
}

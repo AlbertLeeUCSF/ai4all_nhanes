{
 "cells": [
  {
   "cell_type": "code",
   "execution_count": 6,
   "id": "8ca6d046-2d47-43e3-b3e0-dd25f0295bbf",
   "metadata": {},
   "outputs": [],
   "source": [
    "import plotly.express as px\n",
    "import pandas as pd\n",
    "import numpy as np"
   ]
  },
  {
   "cell_type": "code",
   "execution_count": 7,
   "id": "f1cd0d54-6539-4e02-939a-87bb19265f09",
   "metadata": {},
   "outputs": [],
   "source": [
    "acculturation_2013_df = pd.read_csv('../data/raw/2013-2014_acculturation.csv')\n",
    "alcohol_use_2013_df = pd.read_csv('../data/raw/2013-2014_alcohol_use.csv')\n",
    "bp_cholesterol_2013_df = pd.read_csv('../data/raw/2013-2014_bp_cholesterol.csv')\n",
    "cardiovascular_2013_df = pd.read_csv('../data/raw/2013-2014_cardiovascular.csv')\n",
    "consumer_behavior_2013_df = pd.read_csv('../data/raw/2013-2014_consumer_behavior.csv')\n",
    "demographic_2013_df = pd.read_csv('../data/raw/2013-2014_demographic.csv')\n",
    "dermatology_2013_df = pd.read_csv('../data/raw/2013-2014_dermatology.csv')\n",
    "diabetes_2013_df = pd.read_csv('../data/raw/2013-2014_diabetes.csv')\n",
    "diet_nutrition_2013_df = pd.read_csv('../data/raw/2013-2014_diet_nutrition.csv')\n",
    "drug_use_2013_df = pd.read_csv('../data/raw/2013-2014_drug_use.csv')\n",
    "early_childhood_2013_df = pd.read_csv('../data/raw/2013-2014_early_childhood.csv')\n",
    "food_security_2013_df = pd.read_csv('../data/raw/2013-2014_food_security.csv')\n",
    "health_insurance_2013_df = pd.read_csv('../data/raw/2013-2014_health_insurance.csv')\n",
    "health_status_2013_df = pd.read_csv('../data/raw/2013-2014_health_status.csv')\n",
    "hospital_access_to_care_2013_df = pd.read_csv('../data/raw/2013-2014_hospital_access_to_care.csv')\n",
    "housing_2013_df = pd.read_csv('../data/raw/2013-2014_housing.csv')\n",
    "immunization_2013_df = pd.read_csv('../data/raw/2013-2014_immunization.csv')\n",
    "income_2013_df = pd.read_csv('../data/raw/2013-2014_income.csv')\n",
    "medical_conditions_2013_df = pd.read_csv('../data/raw/2013-2014_medical_conditions.csv')\n",
    "mental_health_2013_df = pd.read_csv('../data/raw/2013-2014_mental_health.csv')\n",
    "occupation_2013_df = pd.read_csv('../data/raw/2013-2014_occupation.csv')\n",
    "oral_health_2013_df = pd.read_csv('../data/raw/2013-2014_oral_health.csv')\n",
    "pesticide_use_2013_df = pd.read_csv('../data/raw/2013-2014_pesticide_use.csv')\n",
    "# I can't believe I'm not done yet\n",
    "physical_activity_2013_df = pd.read_csv('../data/raw/2013-2014_physical_activity.csv')\n",
    "physical_functioning_2013_df = pd.read_csv('../data/raw/2013-2014_physical_functioning.csv')\n",
    "preventative_aspirin_use_2013_df = pd.read_csv('../data/raw/2013-2014_preventative_aspirin_use.csv')\n",
    "reproductive_2013_df = pd.read_csv('../data/raw/2013-2014_reproductive.csv')\n",
    "sexual_behavior_2013_df = pd.read_csv('../data/raw/2013-2014_sexual_behavior.csv')\n",
    "sleep_disorder_2013_df = pd.read_csv('../data/raw/2013-2014_sleep_disorder.csv')\n",
    "smoking_cigarette_2013_df = pd.read_csv('../data/raw/2013-2014_smoking_cigarette.csv')\n",
    "smoking_recent_tobacco_2013_df = pd.read_csv('../data/raw/2013-2014_smoking_recent_tobacco.csv')\n",
    "urology_2013_df = pd.read_csv('../data/raw/2013-2014_urology.csv')\n",
    "weight_history_2013_df = pd.read_csv('../data/raw/2013-2014_weight_history.csv')\n"
   ]
  },
  {
   "cell_type": "code",
   "execution_count": 8,
   "id": "d2cd9ecf-9284-402f-87d6-e757af1aa428",
   "metadata": {},
   "outputs": [],
   "source": [
    "df_list = [alcohol_use_2013_df,\n",
    "            bp_cholesterol_2013_df, \n",
    "           cardiovascular_2013_df,\n",
    "          consumer_behavior_2013_df, \n",
    "          demographic_2013_df,\n",
    "           dermatology_2013_df,\n",
    "           diabetes_2013_df,\n",
    "           diet_nutrition_2013_df,\n",
    "           drug_use_2013_df, \n",
    "           early_childhood_2013_df,\n",
    "           food_security_2013_df,\n",
    "           health_insurance_2013_df, \n",
    "           health_status_2013_df, \n",
    "           hospital_access_to_care_2013_df, \n",
    "           housing_2013_df,\n",
    "           immunization_2013_df,\n",
    "           income_2013_df,\n",
    "           medical_conditions_2013_df,\n",
    "           mental_health_2013_df,\n",
    "           occupation_2013_df,\n",
    "           oral_health_2013_df,\n",
    "           pesticide_use_2013_df,\n",
    "           physical_activity_2013_df,\n",
    "           physical_functioning_2013_df,\n",
    "           preventative_aspirin_use_2013_df,\n",
    "           reproductive_2013_df,\n",
    "           sexual_behavior_2013_df,\n",
    "           sleep_disorder_2013_df,\n",
    "           smoking_cigarette_2013_df,\n",
    "           smoking_recent_tobacco_2013_df,\n",
    "           urology_2013_df,\n",
    "           weight_history_2013_df, \n",
    "          ]"
   ]
  },
  {
   "cell_type": "code",
   "execution_count": 12,
   "id": "c2ccab03-01d3-4e7a-9658-2f0fe69840e7",
   "metadata": {},
   "outputs": [],
   "source": [
    "all_2013_df = acculturation_2013_df\n",
    "for df in df_list:\n",
    "    all_2013_df = all_2013_df.merge(df, how='outer')\n",
    "    "
   ]
  },
  {
   "cell_type": "code",
   "execution_count": 13,
   "id": "a4632616-0f50-4bbb-b05f-067ba617ee46",
   "metadata": {},
   "outputs": [],
   "source": [
    "all_2013_df.to_csv('all_2013_df.csv', index=False)"
   ]
  },
  {
   "cell_type": "code",
   "execution_count": null,
   "id": "1c91e42a-2a8b-4d09-8d81-79479d71f222",
   "metadata": {},
   "outputs": [],
   "source": []
  }
 ],
 "metadata": {
  "kernelspec": {
   "display_name": "Python 3 (ipykernel)",
   "language": "python",
   "name": "python3"
  },
  "language_info": {
   "codemirror_mode": {
    "name": "ipython",
    "version": 3
   },
   "file_extension": ".py",
   "mimetype": "text/x-python",
   "name": "python",
   "nbconvert_exporter": "python",
   "pygments_lexer": "ipython3",
   "version": "3.9.1"
  }
 },
 "nbformat": 4,
 "nbformat_minor": 5
}
